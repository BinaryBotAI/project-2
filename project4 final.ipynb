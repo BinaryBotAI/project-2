{
  "cells": [
    {
      "cell_type": "markdown",
      "metadata": {
        "collapsed": false,
        "id": "XwTkuRcLpCas"
      },
      "source": [
        "### Import Libraries \n",
        "\n"
      ]
    },
    {
      "cell_type": "code",
      "execution_count": 50,
      "metadata": {
        "id": "hR8xsLsopCa5"
      },
      "outputs": [],
      "source": [
        "import pandas as pd\n",
        "from sklearn.preprocessing import StandardScaler\n",
        "from sklearn.model_selection import train_test_split\n",
        "import tensorflow as tf\n",
        "from tensorflow.keras.models import Sequential\n",
        "from tensorflow.keras.layers import Dense, Dropout\n",
        "import mlrose_hiive as mlrose\n",
        "import numpy as np\n",
        "import torch\n",
        "import torch.nn as nn\n",
        "import torch.optim as optim\n",
        "from torch.utils.data import DataLoader\n",
        "from torchvision import datasets, transforms\n",
        "import seaborn as sns\n",
        "from sklearn.metrics import confusion_matrix\n",
        "from sklearn.metrics import classification_report\n",
        "import matplotlib.pyplot as plt"
      ]
    },
    {
      "cell_type": "markdown",
      "metadata": {
        "collapsed": false,
        "id": "ymPjAndjpCa-"
      },
      "source": [
        "### Load the dataset\n",
        "\n"
      ]
    },
    {
      "cell_type": "code",
      "execution_count": 51,
      "metadata": {
        "id": "r03W4CfFpCa_"
      },
      "outputs": [],
      "source": [
        "import pandas as pd\n",
        "\n",
        "# Load the dataset\n",
        "data = pd.read_csv(\"heart_cleveland_upload.csv\")"
      ]
    },
    {
      "cell_type": "code",
      "execution_count": 52,
      "metadata": {
        "id": "Jnwcch4vpCbA",
        "outputId": "a6fb9aae-4172-4e19-d3dd-6e0e69689e68",
        "colab": {
          "base_uri": "https://localhost:8080/"
        }
      },
      "outputs": [
        {
          "output_type": "stream",
          "name": "stdout",
          "text": [
            "   age  sex  cp  trestbps  chol  fbs  restecg  thalach  exang  oldpeak  slope  \\\n",
            "0   69    1   0       160   234    1        2      131      0      0.1      1   \n",
            "1   69    0   0       140   239    0        0      151      0      1.8      0   \n",
            "2   66    0   0       150   226    0        0      114      0      2.6      2   \n",
            "3   65    1   0       138   282    1        2      174      0      1.4      1   \n",
            "4   64    1   0       110   211    0        2      144      1      1.8      1   \n",
            "\n",
            "   ca  thal  condition  \n",
            "0   1     0          0  \n",
            "1   2     0          0  \n",
            "2   0     0          0  \n",
            "3   1     0          1  \n",
            "4   0     0          0  \n"
          ]
        }
      ],
      "source": [
        "# Display the first few rows\n",
        "print(data.head())"
      ]
    },
    {
      "cell_type": "markdown",
      "metadata": {
        "collapsed": false,
        "id": "CJVCXmV3pCbB"
      },
      "source": [
        "# Preprocess\n",
        "### Since the dataset contains only numerical features, we need to scale the numerical features using StandardScaler from sklearn library. \n",
        "### We also need to split the dataset into input features (X) and output feature (y), where y is the \"condition\" column.\n"
      ]
    },
    {
      "cell_type": "code",
      "execution_count": 53,
      "metadata": {
        "id": "B52KEr8spCbC"
      },
      "outputs": [],
      "source": [
        "num_cols = data.select_dtypes(include=\"number\").columns.tolist()\n",
        "scaler = StandardScaler()\n",
        "data[num_cols] = scaler.fit_transform(data[num_cols])\n",
        "X = data.drop(\"condition\", axis=1)\n",
        "y = data[\"condition\"]\n",
        "X_train, X_test, y_train, y_test = train_test_split(X, y, test_size=0.2, random_state=42)"
      ]
    },
    {
      "cell_type": "markdown",
      "metadata": {
        "collapsed": false,
        "id": "XLPOxWQmpCbD"
      },
      "source": [
        "## Define the fitness function for neural network weights\n",
        "### We can experiment with different architectures and hyperparameters. Here we use a neural network architecture with 3 hidden layers, each with 64 neurons, and dropout regularization:\n"
      ]
    },
    {
      "cell_type": "code",
      "execution_count": 54,
      "metadata": {
        "id": "4JTT6TR5pCbE"
      },
      "outputs": [],
      "source": [
        "def nn_fitness_function(weights):\n",
        "    model = Sequential()\n",
        "    model.add(Dense(64, input_dim=X_train.shape[1], activation=\"relu\"))\n",
        "    model.add(Dropout(0.2))\n",
        "    model.add(Dense(64, activation=\"relu\"))\n",
        "    model.add(Dropout(0.2))\n",
        "    model.add(Dense(64, activation=\"relu\"))\n",
        "    model.add(Dropout(0.2))\n",
        "    model.add(Dense(1, activation=\"sigmoid\"))\n",
        "    model.set_weights(weights)\n",
        "    model.compile(loss=\"binary_crossentropy\", optimizer=\"adam\", metrics=[\"accuracy\"])\n",
        "    score = model.evaluate(X_train, y_train, verbose=0)\n",
        "    return -score[1]  # minimize the negative accuracy"
      ]
    },
    {
      "cell_type": "markdown",
      "metadata": {
        "collapsed": false,
        "id": "YkiSGZ4lpCbG"
      },
      "source": [
        "### Define the optimization problems for the different algorithms"
      ]
    },
    {
      "cell_type": "code",
      "execution_count": 49,
      "metadata": {
        "id": "5abXjVH_pCbH"
      },
      "outputs": [],
      "source": [
        "fitness_functions = [\n",
        "    mlrose.OneMax(),\n",
        "    mlrose.FlipFlop(),\n",
        "    mlrose.FourPeaks(t_pct=0.1),\n",
        "    mlrose.SixPeaks(),\n",
        "    mlrose.Knapsack(weights=[1, 2, 3], values=[10, 20, 30], max_weight_pct=0.5)\n",
        "]\n"
      ]
    },
    {
      "cell_type": "markdown",
      "metadata": {
        "collapsed": false,
        "id": "bLrxGWXXpCbI"
      },
      "source": [
        "### Define the search spaces for the different algorithms"
      ]
    },
    {
      "cell_type": "code",
      "execution_count": 55,
      "metadata": {
        "id": "Ic3CZ0obpCbI"
      },
      "outputs": [],
      "source": [
        "search_space = {\n",
        "    \"length\": 10,\n",
        "    \"fitness_fn\": fitness_functions[3],\n",
        "    \"maximize\": True,\n",
        "    \"mode\": \"max\"\n",
        "}\n"
      ]
    },
    {
      "cell_type": "code",
      "execution_count": 56,
      "metadata": {
        "id": "cMOK4078pCbJ"
      },
      "outputs": [],
      "source": [
        "# Define algorithms\n",
        "algorithms = [\n",
        "    {\n",
        "        \"name\": \"Random Search\",\n",
        "        \"function\": mlrose.random_hill_climb,\n",
        "        \"kwargs\": {\"max_attempts\": 100, \"max_iters\": 100, \"restarts\": 0, \"curve\": True},\n",
        "        \"fitness_function\": fitness_functions[3],\n",
        "        \"search_space\": {\n",
        "            \"length\": 100\n",
        "        }\n",
        "    }\n",
        "]"
      ]
    },
    {
      "cell_type": "markdown",
      "source": [
        "## Define the hyperparameters for simulated annealing"
      ],
      "metadata": {
        "id": "05X9Z8rKI1OJ"
      }
    },
    {
      "cell_type": "code",
      "source": [
        "sa_hyperparameters = {\"schedule\": mlrose.ExpDecay()}"
      ],
      "metadata": {
        "id": "i5hjURoGI3rn"
      },
      "execution_count": 43,
      "outputs": []
    },
    {
      "cell_type": "markdown",
      "source": [
        "## Define the hyperparameters for genetic algorithm"
      ],
      "metadata": {
        "id": "boQ4bgS8JB9L"
      }
    },
    {
      "cell_type": "code",
      "source": [
        "ga_hyperparameters = {\"pop_size\": 200, \"mutation_prob\": 0.1}"
      ],
      "metadata": {
        "id": "tNQsSPPiJEFH"
      },
      "execution_count": 44,
      "outputs": []
    },
    {
      "cell_type": "markdown",
      "source": [
        "## Define the hyperparameters for MIMIC"
      ],
      "metadata": {
        "id": "c8rgIeW6JIME"
      }
    },
    {
      "cell_type": "code",
      "source": [
        "mimic_hyperparameters = {\"pop_size\": 200, \"keep_pct\": 0.2}"
      ],
      "metadata": {
        "id": "CoJGsDq9JMqU"
      },
      "execution_count": 45,
      "outputs": []
    },
    {
      "cell_type": "markdown",
      "source": [
        "## Run the optimization algorithms and print results"
      ],
      "metadata": {
        "id": "XDI-Dq7LJYAd"
      }
    },
    {
      "cell_type": "markdown",
      "source": [
        "## Run the algorithms and get the results"
      ],
      "metadata": {
        "id": "KD-GEn1IICVf"
      }
    },
    {
      "cell_type": "code",
      "execution_count": 57,
      "metadata": {
        "id": "LLhVhVyUpCbL",
        "colab": {
          "base_uri": "https://localhost:8080/",
          "height": 528
        },
        "outputId": "aca0419f-0e98-4747-ad28-b5028775c51f"
      },
      "outputs": [
        {
          "output_type": "stream",
          "name": "stdout",
          "text": [
            "Random Search\n",
            "{'length': 100}\n"
          ]
        },
        {
          "output_type": "display_data",
          "data": {
            "text/plain": [
              "<Figure size 640x480 with 1 Axes>"
            ],
            "image/png": "[encoded data removed]"
          },
          "metadata": {}
        }
      ],
      "source": [
        "for algorithm in algorithms:\n",
        "    print(algorithm[\"name\"])\n",
        "    print(algorithm[\"search_space\"])\n",
        "    \n",
        "    # Define problem\n",
        "    problem = mlrose.DiscreteOpt(\n",
        "        length=algorithm[\"search_space\"][\"length\"],\n",
        "        fitness_fn=algorithm[\"fitness_function\"],\n",
        "        maximize=True\n",
        "    )\n",
        "    \n",
        "    # Run optimization\n",
        "    best_state, best_fitness, fitness_curve = algorithm[\"function\"](\n",
        "        problem=problem,\n",
        "        **algorithm[\"kwargs\"]\n",
        "    )\n",
        "    # Plot fitness curve\n",
        "    plt.plot(fitness_curve)\n",
        "    plt.title(f\"{algorithm['name']}\\nBest Fitness: {best_fitness}\")\n",
        "    plt.xlabel(\"Iterations\")\n",
        "    plt.ylabel(\"Fitness\")\n",
        "    plt.show()"
      ]
    },
    {
      "cell_type": "code",
      "source": [
        "# Define the optimization problem\n",
        "problem = mlrose.DiscreteOpt(length=100, fitness_fn=mlrose.OneMax(), maximize=True, max_val=2)\n",
        "\n",
        "# Define the schedule\n",
        "schedule = mlrose.ExpDecay()\n",
        "\n",
        "# Run the simulated annealing algorithm and get the best solution and fitness curve\n",
        "best_state, best_fitness, best_fitness_curve = mlrose.simulated_annealing(problem, schedule=schedule, max_attempts=100,\n",
        "                                                                          max_iters=1000, curve=True, random_state=42)\n",
        "\n",
        "# Plot the fitness curve\n",
        "plt.plot(best_fitness_curve, label=\"SA\")\n",
        "plt.title(\"Fitness vs Iteration\")\n",
        "plt.xlabel(\"Iteration\")\n",
        "plt.ylabel(\"Fitness\")\n",
        "plt.legend()\n",
        "plt.show()\n",
        "\n"
      ],
      "metadata": {
        "colab": {
          "base_uri": "https://localhost:8080/",
          "height": 472
        },
        "id": "cexdfOo5ns8A",
        "outputId": "1b5e28c2-d259-4ecc-cb2e-b9a01d9084db"
      },
      "execution_count": 58,
      "outputs": [
        {
          "output_type": "display_data",
          "data": {
            "text/plain": [
              "<Figure size 640x480 with 1 Axes>"
            ],
            "image/png": "[encoded data removed]"
          },
          "metadata": {}
        }
      ]
    }
  ],
  "metadata": {
    "kernelspec": {
      "display_name": "Python 3 (system-wide)",
      "language": "python",
      "metadata": {
        "cocalc": {
          "description": "Python 3 programming language",
          "priority": 100,
          "url": "https://www.python.org/"
        }
      },
      "name": "python3",
      "resource_dir": "/ext/jupyter/kernels/python3"
    },
    "language_info": {
      "codemirror_mode": {
        "name": "ipython",
        "version": 3
      },
      "file_extension": ".py",
      "mimetype": "text/x-python",
      "name": "python",
      "nbconvert_exporter": "python",
      "pygments_lexer": "ipython3",
      "version": "3.8.10"
    },
    "colab": {
      "provenance": []
    }
  },
  "nbformat": 4,
  "nbformat_minor": 0
}