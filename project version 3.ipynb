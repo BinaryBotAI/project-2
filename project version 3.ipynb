{
  "cells": [
    {
      "cell_type": "markdown",
      "metadata": {
        "collapsed": false,
        "id": "XwTkuRcLpCas"
      },
      "source": [
        "### Import Libraries \n",
        "\n"
      ]
    },
    {
      "cell_type": "code",
      "execution_count": 135,
      "metadata": {
        "id": "hR8xsLsopCa5"
      },
      "outputs": [],
      "source": [
        "import pandas as pd\n",
        "from sklearn.preprocessing import StandardScaler\n",
        "from sklearn.model_selection import train_test_split\n",
        "import tensorflow as tf\n",
        "from tensorflow.keras.models import Sequential\n",
        "from tensorflow.keras.layers import Dense, Dropout\n",
        "import mlrose_hiive as mlrose\n",
        "import numpy as np"
      ]
    },
    {
      "cell_type": "markdown",
      "metadata": {
        "collapsed": false,
        "id": "ymPjAndjpCa-"
      },
      "source": [
        "### Load the dataset\n",
        "\n"
      ]
    },
    {
      "cell_type": "code",
      "execution_count": 136,
      "metadata": {
        "id": "r03W4CfFpCa_"
      },
      "outputs": [],
      "source": [
        "import pandas as pd\n",
        "\n",
        "# Load the dataset\n",
        "data = pd.read_csv(\"heart_cleveland_upload.csv\")"
      ]
    },
    {
      "cell_type": "code",
      "execution_count": 137,
      "metadata": {
        "id": "Jnwcch4vpCbA",
        "outputId": "9da49a02-42bc-4e4c-e582-e5e0ecb0c686",
        "colab": {
          "base_uri": "https://localhost:8080/"
        }
      },
      "outputs": [
        {
          "output_type": "stream",
          "name": "stdout",
          "text": [
            "   age  sex  cp  trestbps  chol  fbs  restecg  thalach  exang  oldpeak  slope  \\\n",
            "0   69    1   0       160   234    1        2      131      0      0.1      1   \n",
            "1   69    0   0       140   239    0        0      151      0      1.8      0   \n",
            "2   66    0   0       150   226    0        0      114      0      2.6      2   \n",
            "3   65    1   0       138   282    1        2      174      0      1.4      1   \n",
            "4   64    1   0       110   211    0        2      144      1      1.8      1   \n",
            "\n",
            "   ca  thal  condition  \n",
            "0   1     0          0  \n",
            "1   2     0          0  \n",
            "2   0     0          0  \n",
            "3   1     0          1  \n",
            "4   0     0          0  \n"
          ]
        }
      ],
      "source": [
        "# Display the first few rows\n",
        "print(data.head())"
      ]
    },
    {
      "cell_type": "markdown",
      "metadata": {
        "collapsed": false,
        "id": "CJVCXmV3pCbB"
      },
      "source": [
        "# Preprocess\n",
        "### Since the dataset contains only numerical features, we need to scale the numerical features using StandardScaler from sklearn library. \n",
        "### We also need to split the dataset into input features (X) and output feature (y), where y is the \"condition\" column.\n"
      ]
    },
    {
      "cell_type": "code",
      "execution_count": 138,
      "metadata": {
        "id": "B52KEr8spCbC"
      },
      "outputs": [],
      "source": [
        "num_cols = data.select_dtypes(include=\"number\").columns.tolist()\n",
        "scaler = StandardScaler()\n",
        "data[num_cols] = scaler.fit_transform(data[num_cols])\n",
        "X = data.drop(\"condition\", axis=1)\n",
        "y = data[\"condition\"]\n",
        "X_train, X_test, y_train, y_test = train_test_split(X, y, test_size=0.2, random_state=42)"
      ]
    },
    {
      "cell_type": "markdown",
      "metadata": {
        "collapsed": false,
        "id": "XLPOxWQmpCbD"
      },
      "source": [
        "## Define the fitness function for neural network weights\n",
        "### We can experiment with different architectures and hyperparameters. Here we use a neural network architecture with 3 hidden layers, each with 64 neurons, and dropout regularization:\n"
      ]
    },
    {
      "cell_type": "code",
      "execution_count": 139,
      "metadata": {
        "id": "4JTT6TR5pCbE"
      },
      "outputs": [],
      "source": [
        "def nn_fitness_function(weights):\n",
        "    model = Sequential()\n",
        "    model.add(Dense(64, input_dim=X_train.shape[1], activation=\"relu\"))\n",
        "    model.add(Dropout(0.2))\n",
        "    model.add(Dense(64, activation=\"relu\"))\n",
        "    model.add(Dropout(0.2))\n",
        "    model.add(Dense(64, activation=\"relu\"))\n",
        "    model.add(Dropout(0.2))\n",
        "    model.add(Dense(1, activation=\"sigmoid\"))\n",
        "    model.set_weights(weights)\n",
        "    model.compile(loss=\"binary_crossentropy\", optimizer=\"adam\", metrics=[\"accuracy\"])\n",
        "    score = model.evaluate(X_train, y_train, verbose=0)\n",
        "    return -score[1]  # minimize the negative accuracy"
      ]
    },
    {
      "cell_type": "markdown",
      "metadata": {
        "collapsed": false,
        "id": "YkiSGZ4lpCbG"
      },
      "source": [
        "### Define the optimization problems for the different algorithms"
      ]
    },
    {
      "cell_type": "code",
      "execution_count": 140,
      "metadata": {
        "id": "5abXjVH_pCbH"
      },
      "outputs": [],
      "source": [
        "fitness_functions = [    mlrose.CustomFitness(lambda x: nn_fitness_function(x)),    mlrose.CustomFitness(lambda x: -(x[0]**2 + x[1]**2)),\n",
        "    mlrose.CustomFitness(lambda x: -abs(x[0] * np.sin(x[0]) + 0.1 * x[0])),\n",
        "    mlrose.CustomFitness(lambda x: nn_fitness_function(x))\n",
        "]\n",
        "\n"
      ]
    },
    {
      "cell_type": "markdown",
      "metadata": {
        "collapsed": false,
        "id": "bLrxGWXXpCbI"
      },
      "source": [
        "### Define the search spaces for the different algorithms"
      ]
    },
    {
      "cell_type": "code",
      "execution_count": 141,
      "metadata": {
        "id": "Ic3CZ0obpCbI"
      },
      "outputs": [],
      "source": [
        "search_spaces = [\n",
        "    np.array([-5, 5], dtype=np.float64),\n",
        "    np.array([-5, 5], dtype=np.float64),\n",
        "    np.array([-5, 5], dtype=np.float64)\n",
        "]"
      ]
    },
    {
      "cell_type": "code",
      "execution_count": 142,
      "metadata": {
        "id": "cMOK4078pCbJ"
      },
      "outputs": [],
      "source": [
        "\n",
        "# Define the algorithms\n",
        "algorithms = [\n",
        "    {\n",
        "        \"name\": \"RHC\",\n",
        "        \"function\": mlrose.random_hill_climb,\n",
        "        \"kwargs\": {\"max_attempts\": 100, \"restarts\": 10},\n",
        "        \"fitness_function\": fitness_functions[1],\n",
        "        \"search_space\": search_spaces[1]\n",
        "    },\n",
        "    {\n",
        "        \"name\": \"SA\",\n",
        "        \"function\": mlrose.simulated_annealing,\n",
        "        \"kwargs\": {\"max_attempts\": 100, \"schedule\": mlrose.ExpDecay()},\n",
        "        \"fitness_function\": fitness_functions[2],\n",
        "        \"search_space\": search_spaces[2]\n",
        "    },\n",
        "    {\n",
        "        \"name\": \"GA\",\n",
        "        \"function\": mlrose.genetic_alg,\n",
        "        \"kwargs\": {\"pop_size\": 200, \"mutation_prob\": 0.1},\n",
        "        \"fitness_function\": fitness_functions[0],\n",
        "        \"search_space\": None  # No search space needed for GA\n",
        "    },\n",
        "    {\n",
        "        \"name\": \"Random Search\",\n",
        "        \"function\": mlrose.random_hill_climb,\n",
        "        \"kwargs\": {\"max_attempts\": 100, \"max_iters\": 100, \"restarts\": 0},\n",
        "        \"fitness_function\": fitness_functions[3],\n",
        "        \"search_space\": {\n",
        "            \"layer1\": np.linspace(16, 128, num=7, dtype=np.int),\n",
        "            \"layer2\": np.linspace(16, 128, num=7, dtype=np.int),\n",
        "            \"layer3\": np.linspace(16, 128, num=7, dtype=np.int),\n",
        "            \"dropout\": np.linspace(0.1, 0.5, num=5),\n",
        "            \"lr\": np.logspace(-4, -1, num=4),\n",
        "            \"batch_size\": [16, 32, 64]\n",
        "        }\n",
        "    },\n",
        "    {\n",
        "        \"name\": \"Randomized Hill Climbing\",\n",
        "        \"function\": mlrose.random_hill_climb,\n",
        "        \"kwargs\": {\"max_attempts\": 100, \"restarts\": 10},\n",
        "        \"fitness_function\": fitness_functions[1],\n",
        "        \"search_space\": search_spaces[1],\n",
        "        \"random_state\": 42\n",
        "    },\n",
        "    {\n",
        "        \"name\": \"Simulated Annealing\",\n",
        "        \"function\": mlrose.simulated_annealing,\n",
        "        \"kwargs\": {\"max_attempts\": 100, \"schedule\": mlrose.ExpDecay()},\n",
        "        \"fitness_function\": fitness_functions[2],\n",
        "        \"search_space\": search_spaces[2],\n",
        "        \"random_state\": 42\n",
        "    },\n",
        "    {\n",
        "        \"name\": \"Genetic Algorithm\",\n",
        "        \"function\": mlrose.genetic_alg,\n",
        "        \"kwargs\": {\"pop_size\": 200, \"mutation_prob\": 0.1},\n",
        "        \"fitness_function\": fitness_functions[0],\n",
        "        \"search_space\": None,  # No search space needed for GA\n",
        "        \"random_state\": 42\n",
        "    }\n",
        "    ]"
      ]
    },
    {
      "cell_type": "markdown",
      "source": [
        "## Define the hyperparameters for simulated annealing"
      ],
      "metadata": {
        "id": "05X9Z8rKI1OJ"
      }
    },
    {
      "cell_type": "code",
      "source": [
        "sa_hyperparameters = {\"schedule\": mlrose.ExpDecay()}"
      ],
      "metadata": {
        "id": "i5hjURoGI3rn"
      },
      "execution_count": 143,
      "outputs": []
    },
    {
      "cell_type": "markdown",
      "source": [
        "## Define the hyperparameters for genetic algorithm"
      ],
      "metadata": {
        "id": "boQ4bgS8JB9L"
      }
    },
    {
      "cell_type": "code",
      "source": [
        "ga_hyperparameters = {\"pop_size\": 200, \"mutation_prob\": 0.1}"
      ],
      "metadata": {
        "id": "tNQsSPPiJEFH"
      },
      "execution_count": 144,
      "outputs": []
    },
    {
      "cell_type": "markdown",
      "source": [
        "## Define the hyperparameters for MIMIC"
      ],
      "metadata": {
        "id": "c8rgIeW6JIME"
      }
    },
    {
      "cell_type": "code",
      "source": [
        "mimic_hyperparameters = {\"pop_size\": 200, \"keep_pct\": 0.2}"
      ],
      "metadata": {
        "id": "CoJGsDq9JMqU"
      },
      "execution_count": 145,
      "outputs": []
    },
    {
      "cell_type": "markdown",
      "source": [
        "## Run the optimization algorithms and print results"
      ],
      "metadata": {
        "id": "XDI-Dq7LJYAd"
      }
    },
    {
      "cell_type": "markdown",
      "source": [
        "## Run the algorithms and get the results"
      ],
      "metadata": {
        "id": "KD-GEn1IICVf"
      }
    },
    {
      "cell_type": "code",
      "execution_count": 146,
      "metadata": {
        "id": "LLhVhVyUpCbL"
      },
      "outputs": [],
      "source": [
        "import mlrose\n",
        "import numpy as np\n",
        "\n",
        "def run_algorithms(X_train, algorithms):\n",
        "    results = []\n",
        "\n",
        "    for algo in algorithms:\n",
        "        if algo[\"search_space\"] is None:\n",
        "            problem = mlrose.DiscreteOpt(length=len(X_train.columns), fitness_fn=algo[\"fitness_function\"])\n",
        "        else:\n",
        "            problem = mlrose.DiscreteOpt(length=len(X_train.columns), fitness_fn=algo[\"fitness_function\"], \n",
        "                                         maximize=False, max_val=max(algo[\"search_space\"]))\n",
        "        if algo[\"name\"] == \"Random Search\":\n",
        "            init_state = None\n",
        "            schedule = mlrose.ExpDecay()\n",
        "            best_state, best_fitness = mlrose.random_search(problem, \n",
        "                                                            max_attempts=algo[\"kwargs\"][\"max_attempts\"],\n",
        "                                                            max_iters=algo[\"kwargs\"][\"max_iters\"],\n",
        "                                                            restarts=algo[\"kwargs\"][\"restarts\"],\n",
        "                                                            curve=False,\n",
        "                                                            random_state=42)\n",
        "        else:\n",
        "            best_state, best_fitness, _ = mlrose.optimize(problem,\n",
        "                                                          algorithm=algo[\"function\"],\n",
        "                                                          max_attempts=algo[\"kwargs\"][\"max_attempts\"],\n",
        "                                                          max_iters=np.inf,\n",
        "                                                          restarts=algo[\"kwargs\"].get(\"restarts\", 0),\n",
        "                                                          init_state=algo.get(\"init_state\", None),\n",
        "                                                          schedule=algo.get(\"schedule\", None),\n",
        "                                                          mutation_prob=algo.get(\"mutation_prob\", None),\n",
        "                                                          pop_size=algo.get(\"pop_size\", None),\n",
        "                                                          curve=False,\n",
        "                                                          random_state=42)\n",
        "\n",
        "        results.append({\n",
        "            \"name\": algo[\"name\"],\n",
        "            \"best_state\": best_state,\n",
        "            \"best_fitness\": best_fitness\n",
        "        })\n",
        "    \n",
        "    return results\n"
      ]
    }
  ],
  "metadata": {
    "kernelspec": {
      "display_name": "Python 3 (system-wide)",
      "language": "python",
      "metadata": {
        "cocalc": {
          "description": "Python 3 programming language",
          "priority": 100,
          "url": "https://www.python.org/"
        }
      },
      "name": "python3",
      "resource_dir": "/ext/jupyter/kernels/python3"
    },
    "language_info": {
      "codemirror_mode": {
        "name": "ipython",
        "version": 3
      },
      "file_extension": ".py",
      "mimetype": "text/x-python",
      "name": "python",
      "nbconvert_exporter": "python",
      "pygments_lexer": "ipython3",
      "version": "3.8.10"
    },
    "colab": {
      "provenance": []
    }
  },
  "nbformat": 4,
  "nbformat_minor": 0
}