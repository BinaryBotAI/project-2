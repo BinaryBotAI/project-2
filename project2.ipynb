{
 "cells": [
  {
   "cell_type": "markdown",
   "id": "6d99a5d1-c3a0-48cc-aa06-37d6786d1923",
   "metadata": {},
   "source": [
    "### Import Libraries "
   ]
  },
  {
   "cell_type": "code",
   "execution_count": null,
   "id": "e1efe776-d009-4fe5-8ed4-177f64efeb4e",
   "metadata": {},
   "outputs": [],
   "source": [
    "import pandas as pd\n",
    "from sklearn.preprocessing import StandardScaler\n",
    "from sklearn.model_selection import train_test_split\n",
    "import tensorflow as tf\n",
    "from tensorflow.keras.models import Sequential\n",
    "from tensorflow.keras.layers import Dense, Dropout\n",
    "from skopt import gp_minimize, forest_minimize, gbrt_minimize, dummy_minimize\n",
    "from skopt.space import Real, Integer\n",
    "import time"
   ]
  },
  {
   "cell_type": "markdown",
   "id": "9d47216f-4792-4ac1-9065-f0215adf1bd6",
   "metadata": {},
   "source": [
    "### Load the dataset"
   ]
  },
  {
   "cell_type": "code",
   "execution_count": 1,
   "id": "1e7566d9-b9d8-42d3-80ba-ba2bfa566b42",
   "metadata": {},
   "outputs": [],
   "source": [
    "import pandas as pd\n",
    "\n",
    "# Load the dataset\n",
    "data = pd.read_csv(\"heart_cleveland_upload.csv\")\n",
    "\n",
    "# Display the first few rows\n",
    "print(data.head())\n"
   ]
  },
  {
   "cell_type": "markdown",
   "id": "3e4e3ca1-c541-4962-9344-b0bf8d1f7efd",
   "metadata": {},
   "source": [
    "## Preprocess\n",
    "\n",
    "Since the dataset contains only numerical features, we need to scale the numerical features using StandardScaler from sklearn library. We also need to split the dataset into input features (X) and output feature (y), where y is the \"condition\" column."
   ]
  },
  {
   "cell_type": "code",
   "execution_count": 2,
   "id": "a88806b4-6b8b-4cad-be34-5ad010a2e9f6",
   "metadata": {},
   "outputs": [],
   "source": [
    "num_cols = data.select_dtypes(include=\"number\").columns.tolist()\n",
    "scaler = StandardScaler()\n",
    "data[num_cols] = scaler.fit_transform(data[num_cols])\n",
    "X = data.drop(\"condition\", axis=1)\n",
    "y = data[\"condition\"]\n",
    "X_train, X_test, y_train, y_test = train_test_split(X, y, test_size=0.2, random_state=42)\n"
   ]
  },
  {
   "cell_type": "markdown",
   "id": "336199ee-f6cc-44f2-a826-0b20cb6c58d4",
   "metadata": {},
   "source": [
    "## Neural network architecture\n",
    "\n",
    "We can experiment with different architectures and hyperparameters. Here we use a neural network architecture with 3 hidden layers, each with 64 neurons, and dropout regularization:\n"
   ]
  },
  {
   "cell_type": "code",
   "execution_count": null,
   "id": "731e9ee7-073c-4fad-9527-85643d8dc6cc",
   "metadata": {},
   "outputs": [],
   "source": [
    "model = Sequential()\n",
    "model.add(Dense(64, input_dim=X_train.shape[1], activation=\"relu\"))\n",
    "model.add(Dropout(0.2))\n",
    "model.add(Dense(64, activation=\"relu\"))\n",
    "model.add(Dropout(0.2))\n",
    "model.add(Dense(64, activation=\"relu\"))\n",
    "model.add(Dropout(0.2))\n",
    "model.add(Dense(1, activation=\"sigmoid\"))\n",
    "model.compile(loss=\"binary_crossentropy\", optimizer=\"adam\", metrics=[\"accuracy\"])\n"
   ]
  },
  {
   "cell_type": "markdown",
   "id": "aefdac96-a579-4dd6-8df0-b61d3221b6bf",
   "metadata": {},
   "source": [
    "### fitness function\n",
    "The fitness function is the accuracy of the neural network on the validation set. We can use the validation_split argument in model.fit() to automatically split the training set into training and validation sets. "
   ]
  },
  {
   "cell_type": "code",
   "execution_count": null,
   "id": "ce290d28-77bb-48cf-8b0a-fbc09cc8a88a",
   "metadata": {},
   "outputs": [],
   "source": [
    "def fitness_function(params):\n",
    "    # Set the hyperparameters\n",
    "    lr, batch_size, epochs = params\n",
    "    \n",
    "    model.optimizer.lr = lr\n",
    "\n",
    "    # Train the model with the given hyperparameters\n",
    "    history = model.fit(X_train, y_train, validation_split=0.2, batch_size=batch_size, epochs=epochs, verbose=0)\n",
    "\n",
    "    # Evaluate the model on the validation set\n",
    "    score = model.evaluate(X_train, y_train, verbose=0)\n",
    "    accuracy = score[1]\n",
    "\n",
    "    # Return the accuracy as the fitness value\n",
    "      return -accuracy  # minimize the negative accuracy"
   ]
  },
  {
   "cell_type": "markdown",
   "id": "614188aa-4f62-4eec-afdf-a193dc4b69bc",
   "metadata": {},
   "source": [
    "### Define the search space for each randomized search algorithm"
   ]
  },
  {
   "cell_type": "code",
   "execution_count": null,
   "id": "a3f8f836-4f55-4e3e-8fce-25a69f7fe3c3",
   "metadata": {},
   "outputs": [],
   "source": [
    "from skopt import gp_minimize, forest_minimize, gbrt_minimize, dummy_minimize\n",
    "from skopt.space import Real, Integer\n",
    "\n",
    "# Define the search space for each algorithm\n",
    "space_gp = [Real(1e-5, 1e-1, \"log-uniform\", name=\"lr\"), Integer(16, 128, name=\"batch_size\"), Integer(10, 100, name=\"epochs\")]\n",
    "\n",
    "space_forest = [Real(1e-5, 1e-1, \"log-uniform\", name=\"lr\"), Integer(16, 128, name=\"batch_size\"), Integer(10, 100, name=\"epochs\")]\n",
    "\n",
    "space_gbrt = [Real(1e-5, 1e-1, \"log-uniform\", name=\"lr\"), Integer(16, 128, name=\"batch_size\"), Integer(10, 100, name=\"epochs\")]\n",
    "\n",
    "space_dummy = [Real(1e-5, 1e-1, \"log-uniform\", name=\"lr\"), Integer(16, 128, name=\"batch_size\"), Integer(10, 100, name=\"epochs\")]\n"
   ]
  },
  {
   "cell_type": "markdown",
   "id": "5590179d-b5c8-4225-a10a-91031c7e7a17",
   "metadata": {},
   "source": [
    "### Define the algorithms"
   ]
  },
  {
   "cell_type": "code",
   "execution_count": null,
   "id": "c01b48ee-4323-4cb1-bbe4-735e9c13241e",
   "metadata": {},
   "outputs": [],
   "source": [
    "algorithms = [\n",
    "    {\"name\": \"GP\", \"function\": gp_minimize, \"space\": space_gp},\n",
    "    {\"name\": \"Forest\", \"function\": forest_minimize, \"space\": space_forest},\n",
    "    {\"name\": \"GBRT\", \"function\": gbrt_minimize, \"space\": space_gbrt},\n",
    "    {\"name\": \"Dummy\", \"function\": dummy_minimize, \"space\": space_dummy},\n",
    "]\n"
   ]
  },
  {
   "cell_type": "markdown",
   "id": "098b5158-2373-4ba1-bc4e-fd2cc0ee4896",
   "metadata": {},
   "source": [
    "### Run the algorithms and print the results"
   ]
  },
  {
   "cell_type": "code",
   "execution_count": null,
   "id": "aeab1980-46ab-48a8-bfbc-a69d858adabf",
   "metadata": {},
   "outputs": [],
   "source": [
    "for algorithm in algorithms:\n",
    "    print(f\"Running {algorithm['name']} algorithm...\")\n",
    "    start_time = time.time()\n",
    "    result = algorithm[\"function\"](fitness_function, algorithm[\"space\"], n_calls=50, random_state=42)\n",
    "    end_time = time.time()\n",
    "    print(f\"Time taken: {end_time - start_time:.2f} seconds\")\n",
    "print(f\"Best parameters: {result.x}\")\n",
    "print(f\"Best fitness value: {-result.fun}\\n\")"
   ]
  },
  {
   "cell_type": "code",
   "execution_count": null,
   "id": "45fc08a1-00f1-4dc2-a4da-a6e8627d9ea9",
   "metadata": {},
   "outputs": [],
   "source": []
  },
  {
   "cell_type": "code",
   "execution_count": null,
   "id": "021bdb38-87f6-4a2f-8bce-886de3272d33",
   "metadata": {},
   "outputs": [],
   "source": []
  },
  {
   "cell_type": "code",
   "execution_count": null,
   "id": "96495597-d8d3-41e8-9e3c-08b829346a38",
   "metadata": {},
   "outputs": [],
   "source": []
  },
  {
   "cell_type": "code",
   "execution_count": null,
   "id": "13bf5dc5-6b25-479e-8c9d-c18ef186235b",
   "metadata": {},
   "outputs": [],
   "source": []
  }
 ],
 "metadata": {
  "kernelspec": {
   "display_name": "Python 3 (ipykernel)",
   "language": "python",
   "name": "python3"
  },
  "language_info": {
   "codemirror_mode": {
    "name": "ipython",
    "version": 3
   },
   "file_extension": ".py",
   "mimetype": "text/x-python",
   "name": "python",
   "nbconvert_exporter": "python",
   "pygments_lexer": "ipython3",
   "version": "3.9.2"
  }
 },
 "nbformat": 4,
 "nbformat_minor": 5
}
